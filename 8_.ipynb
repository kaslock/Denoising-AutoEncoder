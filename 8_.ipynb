{
 "cells": [
  {
   "cell_type": "code",
   "execution_count": 73,
   "metadata": {},
   "outputs": [],
   "source": [
    "import torch.nn as nn\n",
    "import torch.nn.functional as F\n",
    "import math\n",
    "\n",
    "import pandas as pd\n",
    "import seaborn as sns\n",
    "\n",
    "class Autoencoder(nn.Module):\n",
    "\n",
    "    def __init__(self):\n",
    "        \n",
    "        super(Autoencoder, self).__init__()\n",
    "        \n",
    "        self.encoder = nn.Sequential(\n",
    "            nn.Linear(120 * 80, 256),\n",
    "            nn.ReLU(True),\n",
    "            nn.Linear(256, 64),\n",
    "            nn.ReLU(True))\n",
    "        \n",
    "        self.decoder = nn.Sequential(\n",
    "            nn.Linear(64, 256),\n",
    "            nn.ReLU(True),\n",
    "            nn.Linear(256, 120 * 80),\n",
    "            nn.Sigmoid())\n",
    "\n",
    "    def forward(self, x):\n",
    "        \n",
    "        x = self.encoder(x)\n",
    "        x = self.decoder(x)\n",
    "        \n",
    "        return x\n"
   ]
  },
  {
   "cell_type": "code",
   "execution_count": 87,
   "metadata": {},
   "outputs": [
    {
     "ename": "FileNotFoundError",
     "evalue": "[Errno 2] No such file or directory: 'train.npy'",
     "output_type": "error",
     "traceback": [
      "\u001b[1;31m---------------------------------------------------------------------------\u001b[0m",
      "\u001b[1;31mFileNotFoundError\u001b[0m                         Traceback (most recent call last)",
      "\u001b[1;32m<ipython-input-87-2e5d75c8f932>\u001b[0m in \u001b[0;36m<module>\u001b[1;34m\u001b[0m\n\u001b[0;32m     56\u001b[0m     \u001b[1;31m# -----------------------------------------------------------------------------\u001b[0m\u001b[1;33m\u001b[0m\u001b[1;33m\u001b[0m\u001b[1;33m\u001b[0m\u001b[0m\n\u001b[0;32m     57\u001b[0m \u001b[1;33m\u001b[0m\u001b[0m\n\u001b[1;32m---> 58\u001b[1;33m     \u001b[0mtraindata\u001b[0m       \u001b[1;33m=\u001b[0m \u001b[0mnp\u001b[0m\u001b[1;33m.\u001b[0m\u001b[0mload\u001b[0m\u001b[1;33m(\u001b[0m\u001b[1;34m'train.npy'\u001b[0m\u001b[1;33m)\u001b[0m\u001b[1;33m\u001b[0m\u001b[1;33m\u001b[0m\u001b[0m\n\u001b[0m\u001b[0;32m     59\u001b[0m     \u001b[0mtraindataset\u001b[0m    \u001b[1;33m=\u001b[0m \u001b[0mnumpyDataset\u001b[0m\u001b[1;33m(\u001b[0m\u001b[0mtraindata\u001b[0m\u001b[1;33m,\u001b[0m \u001b[0mtransform\u001b[0m\u001b[1;33m)\u001b[0m\u001b[1;33m\u001b[0m\u001b[1;33m\u001b[0m\u001b[0m\n\u001b[0;32m     60\u001b[0m     \u001b[0mtrainloader\u001b[0m     \u001b[1;33m=\u001b[0m \u001b[0mDataLoader\u001b[0m\u001b[1;33m(\u001b[0m\u001b[0mtraindataset\u001b[0m\u001b[1;33m,\u001b[0m \u001b[0mbatch_size\u001b[0m\u001b[1;33m=\u001b[0m\u001b[1;36m1\u001b[0m\u001b[1;33m,\u001b[0m \u001b[0mshuffle\u001b[0m\u001b[1;33m=\u001b[0m\u001b[1;32mFalse\u001b[0m\u001b[1;33m,\u001b[0m \u001b[0mnum_workers\u001b[0m\u001b[1;33m=\u001b[0m\u001b[1;36m0\u001b[0m\u001b[1;33m)\u001b[0m\u001b[1;33m\u001b[0m\u001b[1;33m\u001b[0m\u001b[0m\n",
      "\u001b[1;32m~\\Anaconda3\\lib\\site-packages\\numpy\\lib\\npyio.py\u001b[0m in \u001b[0;36mload\u001b[1;34m(file, mmap_mode, allow_pickle, fix_imports, encoding)\u001b[0m\n\u001b[0;32m    426\u001b[0m         \u001b[0mown_fid\u001b[0m \u001b[1;33m=\u001b[0m \u001b[1;32mFalse\u001b[0m\u001b[1;33m\u001b[0m\u001b[1;33m\u001b[0m\u001b[0m\n\u001b[0;32m    427\u001b[0m     \u001b[1;32melse\u001b[0m\u001b[1;33m:\u001b[0m\u001b[1;33m\u001b[0m\u001b[1;33m\u001b[0m\u001b[0m\n\u001b[1;32m--> 428\u001b[1;33m         \u001b[0mfid\u001b[0m \u001b[1;33m=\u001b[0m \u001b[0mopen\u001b[0m\u001b[1;33m(\u001b[0m\u001b[0mos_fspath\u001b[0m\u001b[1;33m(\u001b[0m\u001b[0mfile\u001b[0m\u001b[1;33m)\u001b[0m\u001b[1;33m,\u001b[0m \u001b[1;34m\"rb\"\u001b[0m\u001b[1;33m)\u001b[0m\u001b[1;33m\u001b[0m\u001b[1;33m\u001b[0m\u001b[0m\n\u001b[0m\u001b[0;32m    429\u001b[0m         \u001b[0mown_fid\u001b[0m \u001b[1;33m=\u001b[0m \u001b[1;32mTrue\u001b[0m\u001b[1;33m\u001b[0m\u001b[1;33m\u001b[0m\u001b[0m\n\u001b[0;32m    430\u001b[0m \u001b[1;33m\u001b[0m\u001b[0m\n",
      "\u001b[1;31mFileNotFoundError\u001b[0m: [Errno 2] No such file or directory: 'train.npy'"
     ]
    }
   ],
   "source": [
    "import torch\n",
    "import numpy as np\n",
    "import torch.nn as nn\n",
    "import torch.nn.functional as F\n",
    "from torch.utils.data import Dataset, DataLoader\n",
    "import torchvision\n",
    "import torchvision.transforms as transforms\n",
    "from torch.autograd import Variable\n",
    "import matplotlib.pyplot as plt\n",
    "\n",
    "import torch.optim as optim\n",
    "import torch.distributions as tdist\n",
    "\n",
    "# custom dataloader for .npy file\n",
    "class numpyDataset(Dataset):\n",
    "    def __init__(self, data, transform=None):\n",
    "        self.data = torch.from_numpy(data).float()\n",
    "        self.transform = transform\n",
    "        \n",
    "    def __getitem__(self, index):\n",
    "        x = self.data[index]\n",
    "        \n",
    "        if self.transform:\n",
    "            x = self.transform(x)\n",
    "        \n",
    "        return x\n",
    "    \n",
    "    def __len__(self):\n",
    "        return len(self.data)\n",
    "\n",
    "\n",
    "\n",
    "def add_noise(img):\n",
    "    noise = torch.randn(img.size()) * 0.02\n",
    "    noisy_img = img + noise\n",
    "    \n",
    "    return noisy_img\n",
    "\n",
    "if __name__ == '__main__':\n",
    "\n",
    "    NUM_EPOCH       =  20\n",
    "    learning_rate   =  0.001\n",
    "    \n",
    "    loss_train_mean_arr = np.zeros(NUM_EPOCH, dtype=float)\n",
    "    loss_train_std_arr = np.zeros(NUM_EPOCH, dtype=float)\n",
    "    \n",
    "    transform       = transforms.Compose([\n",
    "                                    transforms.ToPILImage(),\n",
    "                                    transforms.Grayscale(num_output_channels=1),\n",
    "                                    transforms.ToTensor(),\n",
    "                                ])\n",
    "\n",
    "    \n",
    "    # -----------------------------------------------------------------------------\n",
    "    # load dataset\n",
    "    # -----------------------------------------------------------------------------\n",
    "    \n",
    "    traindata       = np.load('train.npy')\n",
    "    traindataset    = numpyDataset(traindata, transform)\n",
    "    trainloader     = DataLoader(traindataset, batch_size=1, shuffle=False, num_workers=0)\n",
    "\n",
    "    testdata        = np.load('test.npy')\n",
    "    testdataset     = numpyDataset(testdata, transform)\n",
    "    testloader      = DataLoader(testdataset, batch_size=1, shuffle=False, num_workers=0)\n",
    "    \n",
    "    # -----------------------------------------------------------------------------\n",
    "    # load neural network model\n",
    "    # -----------------------------------------------------------------------------\n",
    "    \n",
    "    model = Autoencoder().cuda()\n",
    "    \n",
    "    \n",
    "    # -----------------------------------------------------------------------------\n",
    "    # optimization algorithm\n",
    "    # -----------------------------------------------------------------------------\n",
    "    \n",
    "    criterion = nn.MSELoss()\n",
    "    optimizer = torch.optim.Adam(model.parameters(), lr=learning_rate, weight_decay=1e-5)\n",
    "    \n",
    "    \n",
    "    # -----------------------------------------------------------------------------\n",
    "    # iteration for the epoch\n",
    "    # -----------------------------------------------------------------------------\n",
    "    \n",
    "    # for training\n",
    "    model.train()\n",
    "    \n",
    "    for epoch in range(NUM_EPOCH):\n",
    "        \n",
    "        loss_train          = []\n",
    "        \n",
    "        for batch_idx, data in enumerate(trainloader):\n",
    "            \n",
    "            image   = data[0]\n",
    "            image = image.view(image.size(0), -1)\n",
    "            \n",
    "            noisy_img = add_noise(image)\n",
    "            noisy_img = Variable(noisy_img).cuda()\n",
    "            image = Variable(image).cuda()\n",
    "\n",
    "            output = model(noisy_img)\n",
    "            loss = criterion(output, image)\n",
    "            \n",
    "            optimizer.zero_grad()\n",
    "            loss.backward()\n",
    "            optimizer.step()\n",
    "            \n",
    "            loss_train_batch = loss.item() / len(data)\n",
    "            loss_train.append(loss_train_batch)\n",
    "            \n",
    "        loss_train_mean = np.mean(loss_train)\n",
    "        loss_train_std  = np.std(loss_train)\n",
    "        loss_train_mean_arr[epoch]  = loss_train_mean\n",
    "        loss_train_std_arr[epoch]   = loss_train_std\n",
    "        \n",
    "        print(\"[epoch {0}] loss: (training) {1}\".format(epoch, round(loss_train_mean, 6)))\n",
    "                  \n",
    "\n",
    "    # for testing            \n",
    "    model.eval()\n",
    "\n",
    "    result_for_submit = None    # this is for submit file\n",
    "\n",
    "    for batch_idx, data in enumerate(testloader):\n",
    "        \n",
    "        timage = data[0]    \n",
    "        timage = timage.view(timage.size(0), -1)\n",
    "        timage = Variable(timage).cuda()\n",
    "        \n",
    "        resimage = model(timage)\n",
    "        result_of_test = resimage.view(1, 120, 80).cpu()\n",
    "        \n",
    "        if batch_idx == 0:\n",
    "            result_for_submit = result_of_test\n",
    "        else:\n",
    "            try:\n",
    "                result_for_submit = torch.cat([result_for_submit, result_of_test], dim=0)\n",
    "\n",
    "            except RuntimeError:\n",
    "                transposed = torch.transpose(result_of_test, 2, 3)\n",
    "                result_for_submit = torch.cat([result_for_submit, transposed], dim=0)\n",
    "        \n",
    "    # the submit_file.shape must be (400,1,120,80) \n",
    "    submit_file = result_for_submit.detach().numpy()\n",
    "    np.save('your_name.npy', submit_file)\n",
    "                  "
   ]
  },
  {
   "cell_type": "code",
   "execution_count": 88,
   "metadata": {},
   "outputs": [],
   "source": [
    "\n",
    "# svdata       = np.load('your_name.npy')\n",
    "# svdataset    = numpyDataset(svdata, transform)\n",
    "# svloader     = DataLoader(svdataset, batch_size=1, shuffle=False, num_workers=0)\n",
    "\n",
    "# for batch_idx, data in enumerate(svloader):\n",
    "#     image   = data[0]\n",
    "#     to_img  = transforms.ToPILImage()\n",
    "#     image   = to_img(image)\n",
    "\n",
    "#     fig     = plt.figure()\n",
    "#     ax      = fig.add_subplot(1, 1, 1)\n",
    "#     ax.imshow(image, cmap='gray')\n"
   ]
  },
  {
   "cell_type": "code",
   "execution_count": 93,
   "metadata": {},
   "outputs": [],
   "source": [
    "# testdata        = np.load('test.npy')\n",
    "# testdataset     = numpyDataset(testdata, transform)\n",
    "# testloader      = DataLoader(testdataset, batch_size=1, shuffle=False, num_workers=0)\n",
    "\n",
    "# for batch_idx, data in enumerate(testloader):\n",
    "#     image   = data[0]\n",
    "#     to_img  = transforms.ToPILImage()\n",
    "#     image   = to_img(image)\n",
    "\n",
    "#     fig     = plt.figure()\n",
    "#     ax      = fig.add_subplot(1, 1, 1)\n",
    "#     ax.imshow(image, cmap='gray')"
   ]
  },
  {
   "cell_type": "markdown",
   "metadata": {},
   "source": [
    "Plot the average of the training loss over mini-batch iterations at each epoch"
   ]
  },
  {
   "cell_type": "code",
   "execution_count": 90,
   "metadata": {},
   "outputs": [
    {
     "data": {
      "image/png": "[encoded data removed]",
      "text/plain": [
       "<Figure size 432x288 with 1 Axes>"
      ]
     },
     "metadata": {
      "needs_background": "light"
     },
     "output_type": "display_data"
    }
   ],
   "source": [
    "x = range(NUM_EPOCH)\n",
    "y = loss_train_mean_arr[x]\n",
    "\n",
    "plt.plot(x, y, color='y')\n",
    "plt.title('Train Loss')\n",
    "plt.xlabel('Epoch')\n",
    "plt.ylabel('Loss')\n",
    "plt.show()"
   ]
  },
  {
   "cell_type": "code",
   "execution_count": null,
   "metadata": {},
   "outputs": [],
   "source": []
  },
  {
   "cell_type": "code",
   "execution_count": 92,
   "metadata": {},
   "outputs": [
    {
     "data": {
      "image/png": "[encoded data removed]",
      "text/plain": [
       "<Figure size 432x288 with 1 Axes>"
      ]
     },
     "metadata": {
      "needs_background": "light"
     },
     "output_type": "display_data"
    }
   ],
   "source": [
    "x = range(epoch)\n",
    "y = sns.tsplot(data=loss_train_mean_arr[x], err_style=\"unit_traces\", color='y')\n",
    "std  = loss_train_std\n",
    "y.errorbar(range(epoch), loss_train_mean_arr[x], yerr=std, fmt='-o', color='y')\n",
    "plt.title('Standard drviation of the Training Loss')\n",
    "plt.xlabel('Epoch')\n",
    "plt.ylabel('Loss')\n",
    "plt.show()"
   ]
  }
 ],
 "metadata": {
  "kernelspec": {
   "display_name": "Python 3",
   "language": "python",
   "name": "python3"
  },
  "language_info": {
   "codemirror_mode": {
    "name": "ipython",
    "version": 3
   },
   "file_extension": ".py",
   "mimetype": "text/x-python",
   "name": "python",
   "nbconvert_exporter": "python",
   "pygments_lexer": "ipython3",
   "version": "3.7.5"
  }
 },
 "nbformat": 4,
 "nbformat_minor": 2
}
